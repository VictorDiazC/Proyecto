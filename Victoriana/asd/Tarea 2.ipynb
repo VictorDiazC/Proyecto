{
 "cells": [
  {
   "cell_type": "code",
   "execution_count": 21,
   "id": "33b7e959",
   "metadata": {},
   "outputs": [],
   "source": [
    "import numpy as np\n",
    "import matplotlib.pyplot as plt"
   ]
  },
  {
   "cell_type": "markdown",
   "id": "fd3d24c0",
   "metadata": {},
   "source": [
    "### Primera parte del programa"
   ]
  },
  {
   "cell_type": "code",
   "execution_count": 22,
   "id": "1e81d7f6",
   "metadata": {},
   "outputs": [],
   "source": [
    "def gauss(x, y, mu, sigma):\n",
    "    return np.exp(-((x - mu[0])**2 + (y - mu[1])**2) / (2 * sigma**2))"
   ]
  },
  {
   "cell_type": "code",
   "execution_count": 23,
   "id": "ddb44e28",
   "metadata": {},
   "outputs": [],
   "source": [
    "# Posición inicial del robot\n",
    "robot = [np.random.uniform(-5, 5), np.random.uniform(-5, 5)]"
   ]
  },
  {
   "cell_type": "code",
   "execution_count": 29,
   "id": "69ffefa8",
   "metadata": {},
   "outputs": [],
   "source": [
    "# Esta parte es la búsqueda del arbol\n",
    "num = 100\n",
    "tamañopaso = 0.1\n",
    "\n",
    "for i in range(num):\n",
    "    posicionactual = gauss(robot[0], robot[1], [0, 0], 1.0)\n",
    "    \n",
    "    # Nueva posición del robot\n",
    "    nuevaposicion = [\n",
    "        robot[0] + np.random.uniform(-tamañopaso, tamañopaso),\n",
    "        robot[1] + np.random.uniform(-tamañopaso, tamañopaso)\n",
    "    ]\n",
    "    \n",
    "    valornuevaposicion = gauss(nuevaposicion[0], nuevaposicion[1], [0, 0], 1.0)\n",
    "    \n",
    "    # Compara el nuevo valor con el valor actual\n",
    "    if valornuevaposicion > posicionactual:\n",
    "        robot = nuevaposicion  # Actualiza la posición del robot con la nueva posición"
   ]
  },
  {
   "cell_type": "code",
   "execution_count": 31,
   "id": "6bb6c436",
   "metadata": {},
   "outputs": [
    {
     "data": {
      "image/png": "[encoded data removed]",
      "text/plain": [
       "<Figure size 432x288 with 2 Axes>"
      ]
     },
     "metadata": {
      "needs_background": "light"
     },
     "output_type": "display_data"
    }
   ],
   "source": [
    "x = np.linspace(-5, 5, 100)\n",
    "y = np.linspace(-5, 5, 100)\n",
    "X, Y = np.meshgrid(x, y)\n",
    "Z = gauss(X, Y, [0, 0], 1.0)\n",
    "\n",
    "plt.contourf(X, Y, Z, levels=20, cmap='viridis')\n",
    "plt.scatter(robot[0], robot[1], color='red', marker='x')\n",
    "plt.title('Posición final del robot')\n",
    "plt.xlabel('X')\n",
    "plt.ylabel('Y')\n",
    "plt.colorbar()\n",
    "plt.show()"
   ]
  },
  {
   "cell_type": "markdown",
   "id": "981063d7",
   "metadata": {},
   "source": [
    "### Segunda parte del programa"
   ]
  },
  {
   "cell_type": "code",
   "execution_count": 32,
   "id": "e77a804e",
   "metadata": {},
   "outputs": [],
   "source": [
    "neuronas = 4\n",
    "movimientos = 4\n",
    "ajustepesos = 0.1"
   ]
  },
  {
   "cell_type": "code",
   "execution_count": 33,
   "id": "6bfee8e5",
   "metadata": {},
   "outputs": [],
   "source": [
    "matriz = np.random.rand(neuronas, movimientos)"
   ]
  },
  {
   "cell_type": "code",
   "execution_count": null,
   "id": "ca941d0f",
   "metadata": {},
   "outputs": [],
   "source": [
    "for i in range (num):\n",
    "    "
   ]
  }
 ],
 "metadata": {
  "kernelspec": {
   "display_name": "Python 3 (ipykernel)",
   "language": "python",
   "name": "python3"
  },
  "language_info": {
   "codemirror_mode": {
    "name": "ipython",
    "version": 3
   },
   "file_extension": ".py",
   "mimetype": "text/x-python",
   "name": "python",
   "nbconvert_exporter": "python",
   "pygments_lexer": "ipython3",
   "version": "3.9.12"
  }
 },
 "nbformat": 4,
 "nbformat_minor": 5
}
